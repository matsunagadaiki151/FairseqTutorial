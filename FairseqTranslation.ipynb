{
  "nbformat": 4,
  "nbformat_minor": 0,
  "metadata": {
    "colab": {
      "name": "FairseqTranslation.ipynb",
      "provenance": [],
      "collapsed_sections": []
    },
    "kernelspec": {
      "name": "python3",
      "display_name": "Python 3"
    },
    "language_info": {
      "name": "python"
    },
    "accelerator": "GPU"
  },
  "cells": [
    {
      "cell_type": "code",
      "metadata": {
        "id": "6hf2mphV0NrQ"
      },
      "source": [
        "# 使用できるGPUの確認\n",
        "!nvidia-smi"
      ],
      "execution_count": null,
      "outputs": []
    },
    {
      "cell_type": "code",
      "metadata": {
        "id": "bae1ygufwHxM"
      },
      "source": [
        "# KFTTのダウンロード\n",
        "!wget http://www.phontron.com/kftt/download/kftt-data-1.0.tar.gz"
      ],
      "execution_count": null,
      "outputs": []
    },
    {
      "cell_type": "code",
      "metadata": {
        "id": "GqavLUdzUbc5"
      },
      "source": [
        "# 解凍\n",
        "!tar -zxvf kftt-data-1.0.tar.gz"
      ],
      "execution_count": null,
      "outputs": []
    },
    {
      "cell_type": "code",
      "metadata": {
        "id": "pd_NaL7CxHwx"
      },
      "source": [
        "# fairseqのインストール\n",
        "# 再起動を求められることがあるのでその時は再起動してください。\n",
        "!pip install fairseq"
      ],
      "execution_count": null,
      "outputs": []
    },
    {
      "cell_type": "code",
      "metadata": {
        "id": "EanL88niyyPC"
      },
      "source": [
        "def limiter(data_dir, opt_path, src_data, tgt_data, n=50):\n",
        "  '''limiter\n",
        "  コーパスの最大文長を制限する。\n",
        "  ----------------------------------------\n",
        "  引数\n",
        "  data_dir : コーパスのディレクトリ\n",
        "  src_data : 原言語のデータ\n",
        "  tgt_data : 目的言語のデータ\n",
        "  n : 最大文長\n",
        "  ----------------------------------------\n",
        "  '''\n",
        "  # 書き込み用のデータファイルを作成する。\n",
        "  with open(f'{data_dir}/{opt_path}/{src_data}', 'w', encoding='utf8') as wsrc:\n",
        "    with open(f'{data_dir}/{opt_path}/{tgt_data}', 'w', encoding='utf8') as wtgt:\n",
        "      # 元のデータファイルを読み込む\n",
        "      with open(f'{data_dir}/kyoto-{src_data}', encoding='utf8') as rsrc:\n",
        "        with open(f'{data_dir}/kyoto-{tgt_data}', encoding='utf8') as rtgt:\n",
        "          # それぞれ一行ずつ読み込みリストに格納する。\n",
        "          src_lines = rsrc.read().strip().split('\\n')\n",
        "          tgt_lines = rtgt.read().strip().split('\\n')\n",
        "          for src, tgt in zip(src_lines, tgt_lines):\n",
        "            # 最大文長がn以下のもののみ書き込む。\n",
        "            if len(src.split()) <= n and len(tgt.split()) <= n:\n",
        "              wsrc.write(src + '\\n')\n",
        "              wtgt.write(tgt + '\\n')"
      ],
      "execution_count": 1,
      "outputs": []
    },
    {
      "cell_type": "code",
      "metadata": {
        "id": "amsOwnSV_t3o"
      },
      "source": [
        "# 文長制限付きのファイルを格納するフォルダを作成。\n",
        "!mkdir kftt-data-1.0/data/tok/kyoto-limited.en-ja"
      ],
      "execution_count": 2,
      "outputs": []
    },
    {
      "cell_type": "code",
      "metadata": {
        "id": "CGSuQkH31T1h"
      },
      "source": [
        "## 文長制限するファイルの一覧\n",
        "files = ['train', 'dev', 'test']\n",
        "for f in files:\n",
        "  # 最大文長10とする(変更可能)\n",
        "  limiter('kftt-data-1.0/data/tok', f'kyoto-limited.en-ja', f'{f}.en', f'{f}.ja', n=10)"
      ],
      "execution_count": 3,
      "outputs": []
    },
    {
      "cell_type": "code",
      "metadata": {
        "id": "Kv5jt91J38Lq"
      },
      "source": [
        "# preprocessで参照するフォルダ\n",
        "TEXT = \"kftt-data-1.0/data/tok/kyoto-limited.en-ja\""
      ],
      "execution_count": 4,
      "outputs": []
    },
    {
      "cell_type": "code",
      "metadata": {
        "id": "AEBkRgA_A8Om"
      },
      "source": [
        "# ファイル名がvalidでないとErrorになるので変更する。\n",
        "!mv $TEXT/dev.en $TEXT/valid.en\n",
        "!mv $TEXT/dev.ja $TEXT/valid.ja"
      ],
      "execution_count": 5,
      "outputs": []
    },
    {
      "cell_type": "code",
      "metadata": {
        "id": "-liWkdf7AN2S"
      },
      "source": [
        "# preprocessの保存先のファイルを作成。\n",
        "!mkdir kftt-data-1.0/data/data-bin"
      ],
      "execution_count": 6,
      "outputs": []
    },
    {
      "cell_type": "code",
      "metadata": {
        "id": "DdXnWPak3qIA"
      },
      "source": [
        "# preprocessを実行\n",
        "!fairseq-preprocess --source-lang en --target-lang ja \\\n",
        "    --trainpref $TEXT/train --validpref $TEXT/valid --testpref $TEXT/test \\\n",
        "    --destdir kftt-data-1.0/data/data-bin/kyoto-limited.en-ja"
      ],
      "execution_count": null,
      "outputs": []
    },
    {
      "cell_type": "code",
      "metadata": {
        "id": "jhbqApg9BghK"
      },
      "source": [
        "# trainを実行。\n",
        "!fairseq-train kftt-data-1.0/data/data-bin/kyoto-limited.en-ja \\\n",
        "    --arch transformer \\\n",
        "    --optimizer adam \\\n",
        "    --adam-betas '(0.9, 0.98)' \\\n",
        "    --clip-norm 1.0 \\\n",
        "    --lr-scheduler inverse_sqrt \\\n",
        "    --warmup-init-lr 1e-07 \\\n",
        "    --warmup-updates 1000 \\\n",
        "    --lr 0.01 \\\n",
        "    --min-lr 1e-09 \\\n",
        "    --dropout 0.1 \\\n",
        "    --weight-decay 0.0 \\\n",
        "    --no-epoch-checkpoints \\\n",
        "    --criterion label_smoothed_cross_entropy \\\n",
        "    --label-smoothing 0.1 \\\n",
        "    --max-tokens 2500 \\\n",
        "    --max-update 28000 \\\n",
        "    --save-dir checkpoints/ \\\n",
        "    --max-epoch 20 \\\n",
        "    --log-format simple \\\n",
        "    --log-interval 5 \\\n",
        "    --ddp-backend no_c10d \\\n",
        "    --update-freq 32 \\\n",
        "    --seed 42"
      ],
      "execution_count": null,
      "outputs": []
    },
    {
      "cell_type": "code",
      "metadata": {
        "colab": {
          "base_uri": "https://localhost:8080/"
        },
        "id": "sgZBSe0mSUAL",
        "outputId": "0445951e-c4ed-4578-bf10-65a5f00e09e5"
      },
      "source": [
        "# モデルの保存先のファイルを参照\n",
        "!ls checkpoints/"
      ],
      "execution_count": 18,
      "outputs": [
        {
          "output_type": "stream",
          "text": [
            "checkpoint_best.pt  checkpoint_last.pt\n"
          ],
          "name": "stdout"
        }
      ]
    },
    {
      "cell_type": "code",
      "metadata": {
        "id": "CpYzFKMEH4Tv"
      },
      "source": [
        "# 翻訳を実行(モデルの評価までしてくれます)\n",
        "!fairseq-generate kftt-data-1.0/data/data-bin/kyoto-limited.en-ja \\\n",
        "    --path checkpoints/checkpoint_last.pt \\\n",
        "    --batch-size 128 --beam 5"
      ],
      "execution_count": null,
      "outputs": []
    },
    {
      "cell_type": "code",
      "metadata": {
        "id": "TH4vTHuQW2OB"
      },
      "source": [
        ""
      ],
      "execution_count": null,
      "outputs": []
    }
  ]
}